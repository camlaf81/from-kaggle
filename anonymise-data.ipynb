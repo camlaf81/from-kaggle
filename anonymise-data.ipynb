{
 "cells": [
  {
   "cell_type": "code",
   "execution_count": 1,
   "id": "0c50995c",
   "metadata": {
    "_cell_guid": "b1076dfc-b9ad-4769-8c92-a6c4dae69d19",
    "_uuid": "8f2839f25d086af736a60e9eeb907d3b93b6e0e5",
    "execution": {
     "iopub.execute_input": "2024-04-02T15:02:30.654253Z",
     "iopub.status.busy": "2024-04-02T15:02:30.653539Z",
     "iopub.status.idle": "2024-04-02T15:02:31.670461Z",
     "shell.execute_reply": "2024-04-02T15:02:31.669199Z"
    },
    "papermill": {
     "duration": 1.028746,
     "end_time": "2024-04-02T15:02:31.673175",
     "exception": false,
     "start_time": "2024-04-02T15:02:30.644429",
     "status": "completed"
    },
    "tags": []
   },
   "outputs": [
    {
     "name": "stdout",
     "output_type": "stream",
     "text": [
      "/kaggle/input/anonymous-input-data/anon_input.csv\n"
     ]
    }
   ],
   "source": [
    "# This Python 3 environment comes with many helpful analytics libraries installed\n",
    "# It is defined by the kaggle/python Docker image: https://github.com/kaggle/docker-python\n",
    "# For example, here's several helpful packages to load\n",
    "\n",
    "import numpy as np # linear algebra\n",
    "import pandas as pd # data processing, CSV file I/O (e.g. pd.read_csv)\n",
    "\n",
    "# Input data files are available in the read-only \"../input/\" directory\n",
    "# For example, running this (by clicking run or pressing Shift+Enter) will list all files under the input directory\n",
    "\n",
    "import os\n",
    "for dirname, _, filenames in os.walk('/kaggle/input'):\n",
    "    for filename in filenames:\n",
    "        print(os.path.join(dirname, filename))\n",
    "\n",
    "# You can write up to 20GB to the current directory (/kaggle/working/) that gets preserved as output when you create a version using \"Save & Run All\" \n",
    "# You can also write temporary files to /kaggle/temp/, but they won't be saved outside of the current session"
   ]
  },
  {
   "cell_type": "code",
   "execution_count": 2,
   "id": "44f19000",
   "metadata": {
    "execution": {
     "iopub.execute_input": "2024-04-02T15:02:31.686867Z",
     "iopub.status.busy": "2024-04-02T15:02:31.685703Z",
     "iopub.status.idle": "2024-04-02T15:02:31.703332Z",
     "shell.execute_reply": "2024-04-02T15:02:31.702117Z"
    },
    "papermill": {
     "duration": 0.02738,
     "end_time": "2024-04-02T15:02:31.706347",
     "exception": false,
     "start_time": "2024-04-02T15:02:31.678967",
     "status": "completed"
    },
    "tags": []
   },
   "outputs": [],
   "source": [
    "df = pd.read_csv('/kaggle/input/anonymous-input-data/anon_input.csv', sep=';')"
   ]
  },
  {
   "cell_type": "code",
   "execution_count": 3,
   "id": "88b00fe8",
   "metadata": {
    "execution": {
     "iopub.execute_input": "2024-04-02T15:02:31.719003Z",
     "iopub.status.busy": "2024-04-02T15:02:31.718574Z",
     "iopub.status.idle": "2024-04-02T15:02:31.735490Z",
     "shell.execute_reply": "2024-04-02T15:02:31.734308Z"
    },
    "papermill": {
     "duration": 0.026385,
     "end_time": "2024-04-02T15:02:31.738269",
     "exception": false,
     "start_time": "2024-04-02T15:02:31.711884",
     "status": "completed"
    },
    "tags": []
   },
   "outputs": [
    {
     "data": {
      "text/html": [
       "<div>\n",
       "<style scoped>\n",
       "    .dataframe tbody tr th:only-of-type {\n",
       "        vertical-align: middle;\n",
       "    }\n",
       "\n",
       "    .dataframe tbody tr th {\n",
       "        vertical-align: top;\n",
       "    }\n",
       "\n",
       "    .dataframe thead th {\n",
       "        text-align: right;\n",
       "    }\n",
       "</style>\n",
       "<table border=\"1\" class=\"dataframe\">\n",
       "  <thead>\n",
       "    <tr style=\"text-align: right;\">\n",
       "      <th></th>\n",
       "      <th>Name</th>\n",
       "      <th>Order</th>\n",
       "    </tr>\n",
       "  </thead>\n",
       "  <tbody>\n",
       "    <tr>\n",
       "      <th>0</th>\n",
       "      <td>Thomas</td>\n",
       "      <td>chien</td>\n",
       "    </tr>\n",
       "    <tr>\n",
       "      <th>1</th>\n",
       "      <td>Paul</td>\n",
       "      <td>chat</td>\n",
       "    </tr>\n",
       "    <tr>\n",
       "      <th>2</th>\n",
       "      <td>Marie</td>\n",
       "      <td>souris</td>\n",
       "    </tr>\n",
       "    <tr>\n",
       "      <th>3</th>\n",
       "      <td>Pierre</td>\n",
       "      <td>souris</td>\n",
       "    </tr>\n",
       "    <tr>\n",
       "      <th>4</th>\n",
       "      <td>Sophie</td>\n",
       "      <td>aligator</td>\n",
       "    </tr>\n",
       "    <tr>\n",
       "      <th>5</th>\n",
       "      <td>Pierre</td>\n",
       "      <td>chat</td>\n",
       "    </tr>\n",
       "    <tr>\n",
       "      <th>6</th>\n",
       "      <td>Thomas</td>\n",
       "      <td>chat</td>\n",
       "    </tr>\n",
       "    <tr>\n",
       "      <th>7</th>\n",
       "      <td>Marie</td>\n",
       "      <td>singe</td>\n",
       "    </tr>\n",
       "    <tr>\n",
       "      <th>8</th>\n",
       "      <td>Marie</td>\n",
       "      <td>chien</td>\n",
       "    </tr>\n",
       "  </tbody>\n",
       "</table>\n",
       "</div>"
      ],
      "text/plain": [
       "     Name     Order\n",
       "0  Thomas     chien\n",
       "1    Paul      chat\n",
       "2   Marie    souris\n",
       "3  Pierre    souris\n",
       "4  Sophie  aligator\n",
       "5  Pierre      chat\n",
       "6  Thomas      chat\n",
       "7   Marie     singe\n",
       "8   Marie     chien"
      ]
     },
     "execution_count": 3,
     "metadata": {},
     "output_type": "execute_result"
    }
   ],
   "source": [
    "df"
   ]
  },
  {
   "cell_type": "markdown",
   "id": "faa9da65",
   "metadata": {
    "papermill": {
     "duration": 0.005398,
     "end_time": "2024-04-02T15:02:31.749558",
     "exception": false,
     "start_time": "2024-04-02T15:02:31.744160",
     "status": "completed"
    },
    "tags": []
   },
   "source": [
    "### Extract sorted unique names and orders"
   ]
  },
  {
   "cell_type": "code",
   "execution_count": 4,
   "id": "9ccd6d85",
   "metadata": {
    "execution": {
     "iopub.execute_input": "2024-04-02T15:02:31.763539Z",
     "iopub.status.busy": "2024-04-02T15:02:31.763123Z",
     "iopub.status.idle": "2024-04-02T15:02:31.776539Z",
     "shell.execute_reply": "2024-04-02T15:02:31.775102Z"
    },
    "papermill": {
     "duration": 0.023266,
     "end_time": "2024-04-02T15:02:31.778859",
     "exception": false,
     "start_time": "2024-04-02T15:02:31.755593",
     "status": "completed"
    },
    "tags": []
   },
   "outputs": [
    {
     "name": "stdout",
     "output_type": "stream",
     "text": [
      "['Marie', 'Paul', 'Pierre', 'Sophie', 'Thomas']\n",
      "['aligator', 'chat', 'chien', 'singe', 'souris']\n"
     ]
    }
   ],
   "source": [
    "names = list(df['Name'].unique())\n",
    "orders = list(df['Order'].unique())\n",
    "names.sort()\n",
    "orders.sort()\n",
    "print(names)\n",
    "print(orders)"
   ]
  },
  {
   "cell_type": "code",
   "execution_count": 5,
   "id": "a183d693",
   "metadata": {
    "execution": {
     "iopub.execute_input": "2024-04-02T15:02:31.792641Z",
     "iopub.status.busy": "2024-04-02T15:02:31.792259Z",
     "iopub.status.idle": "2024-04-02T15:02:31.799449Z",
     "shell.execute_reply": "2024-04-02T15:02:31.798268Z"
    },
    "papermill": {
     "duration": 0.017119,
     "end_time": "2024-04-02T15:02:31.801886",
     "exception": false,
     "start_time": "2024-04-02T15:02:31.784767",
     "status": "completed"
    },
    "tags": []
   },
   "outputs": [
    {
     "data": {
      "text/plain": [
       "3"
      ]
     },
     "execution_count": 5,
     "metadata": {},
     "output_type": "execute_result"
    }
   ],
   "source": [
    "orders.index('singe')"
   ]
  },
  {
   "cell_type": "markdown",
   "id": "8c29ffb5",
   "metadata": {
    "papermill": {
     "duration": 0.006085,
     "end_time": "2024-04-02T15:02:31.814102",
     "exception": false,
     "start_time": "2024-04-02T15:02:31.808017",
     "status": "completed"
    },
    "tags": []
   },
   "source": [
    "### Replace names and orders by anonymised values"
   ]
  },
  {
   "cell_type": "code",
   "execution_count": 6,
   "id": "56173bc4",
   "metadata": {
    "execution": {
     "iopub.execute_input": "2024-04-02T15:02:31.833644Z",
     "iopub.status.busy": "2024-04-02T15:02:31.833272Z",
     "iopub.status.idle": "2024-04-02T15:02:31.841517Z",
     "shell.execute_reply": "2024-04-02T15:02:31.840123Z"
    },
    "papermill": {
     "duration": 0.020911,
     "end_time": "2024-04-02T15:02:31.844084",
     "exception": false,
     "start_time": "2024-04-02T15:02:31.823173",
     "status": "completed"
    },
    "tags": []
   },
   "outputs": [],
   "source": [
    "df['Name'] = df['Name'].apply(lambda x: names.index(x))\n",
    "df['Order'] = df['Order'].apply(lambda x: orders.index(x))"
   ]
  },
  {
   "cell_type": "code",
   "execution_count": 7,
   "id": "c18ce5d4",
   "metadata": {
    "execution": {
     "iopub.execute_input": "2024-04-02T15:02:31.861107Z",
     "iopub.status.busy": "2024-04-02T15:02:31.860718Z",
     "iopub.status.idle": "2024-04-02T15:02:31.871425Z",
     "shell.execute_reply": "2024-04-02T15:02:31.870091Z"
    },
    "papermill": {
     "duration": 0.021964,
     "end_time": "2024-04-02T15:02:31.874135",
     "exception": false,
     "start_time": "2024-04-02T15:02:31.852171",
     "status": "completed"
    },
    "tags": []
   },
   "outputs": [
    {
     "data": {
      "text/html": [
       "<div>\n",
       "<style scoped>\n",
       "    .dataframe tbody tr th:only-of-type {\n",
       "        vertical-align: middle;\n",
       "    }\n",
       "\n",
       "    .dataframe tbody tr th {\n",
       "        vertical-align: top;\n",
       "    }\n",
       "\n",
       "    .dataframe thead th {\n",
       "        text-align: right;\n",
       "    }\n",
       "</style>\n",
       "<table border=\"1\" class=\"dataframe\">\n",
       "  <thead>\n",
       "    <tr style=\"text-align: right;\">\n",
       "      <th></th>\n",
       "      <th>Name</th>\n",
       "      <th>Order</th>\n",
       "    </tr>\n",
       "  </thead>\n",
       "  <tbody>\n",
       "    <tr>\n",
       "      <th>0</th>\n",
       "      <td>4</td>\n",
       "      <td>2</td>\n",
       "    </tr>\n",
       "    <tr>\n",
       "      <th>1</th>\n",
       "      <td>1</td>\n",
       "      <td>1</td>\n",
       "    </tr>\n",
       "    <tr>\n",
       "      <th>2</th>\n",
       "      <td>0</td>\n",
       "      <td>4</td>\n",
       "    </tr>\n",
       "    <tr>\n",
       "      <th>3</th>\n",
       "      <td>2</td>\n",
       "      <td>4</td>\n",
       "    </tr>\n",
       "    <tr>\n",
       "      <th>4</th>\n",
       "      <td>3</td>\n",
       "      <td>0</td>\n",
       "    </tr>\n",
       "    <tr>\n",
       "      <th>5</th>\n",
       "      <td>2</td>\n",
       "      <td>1</td>\n",
       "    </tr>\n",
       "    <tr>\n",
       "      <th>6</th>\n",
       "      <td>4</td>\n",
       "      <td>1</td>\n",
       "    </tr>\n",
       "    <tr>\n",
       "      <th>7</th>\n",
       "      <td>0</td>\n",
       "      <td>3</td>\n",
       "    </tr>\n",
       "    <tr>\n",
       "      <th>8</th>\n",
       "      <td>0</td>\n",
       "      <td>2</td>\n",
       "    </tr>\n",
       "  </tbody>\n",
       "</table>\n",
       "</div>"
      ],
      "text/plain": [
       "   Name  Order\n",
       "0     4      2\n",
       "1     1      1\n",
       "2     0      4\n",
       "3     2      4\n",
       "4     3      0\n",
       "5     2      1\n",
       "6     4      1\n",
       "7     0      3\n",
       "8     0      2"
      ]
     },
     "execution_count": 7,
     "metadata": {},
     "output_type": "execute_result"
    }
   ],
   "source": [
    "df"
   ]
  },
  {
   "cell_type": "markdown",
   "id": "04c31e6d",
   "metadata": {
    "papermill": {
     "duration": 0.006111,
     "end_time": "2024-04-02T15:02:31.887388",
     "exception": false,
     "start_time": "2024-04-02T15:02:31.881277",
     "status": "completed"
    },
    "tags": []
   },
   "source": [
    "### Write everything as a function"
   ]
  },
  {
   "cell_type": "code",
   "execution_count": 8,
   "id": "d549977f",
   "metadata": {
    "execution": {
     "iopub.execute_input": "2024-04-02T15:02:31.905161Z",
     "iopub.status.busy": "2024-04-02T15:02:31.904659Z",
     "iopub.status.idle": "2024-04-02T15:02:31.911550Z",
     "shell.execute_reply": "2024-04-02T15:02:31.910357Z"
    },
    "papermill": {
     "duration": 0.020386,
     "end_time": "2024-04-02T15:02:31.914625",
     "exception": false,
     "start_time": "2024-04-02T15:02:31.894239",
     "status": "completed"
    },
    "tags": []
   },
   "outputs": [],
   "source": [
    "def anonymise(df):\n",
    "    #create sorted list of unique Name and Order values\n",
    "    names = list(df['Name'].unique())\n",
    "    order = list(df['Order'].unique())\n",
    "    names.sort()\n",
    "    order.sort()\n",
    "    \n",
    "    #replace original values by anonymised ones\n",
    "    df['Name']  = df['Name'].apply(lambda x: names.index(x))\n",
    "    df['Order'] = df['Order'].apply(lambda x: orders.index(x)) \n",
    "    \n",
    "    return df"
   ]
  },
  {
   "cell_type": "markdown",
   "id": "06d39003",
   "metadata": {
    "papermill": {
     "duration": 0.006001,
     "end_time": "2024-04-02T15:02:31.926866",
     "exception": false,
     "start_time": "2024-04-02T15:02:31.920865",
     "status": "completed"
    },
    "tags": []
   },
   "source": [
    "### _(tests section)_"
   ]
  },
  {
   "cell_type": "code",
   "execution_count": 9,
   "id": "dca78ce7",
   "metadata": {
    "execution": {
     "iopub.execute_input": "2024-04-02T15:02:31.941233Z",
     "iopub.status.busy": "2024-04-02T15:02:31.940800Z",
     "iopub.status.idle": "2024-04-02T15:02:31.948401Z",
     "shell.execute_reply": "2024-04-02T15:02:31.947250Z"
    },
    "papermill": {
     "duration": 0.018006,
     "end_time": "2024-04-02T15:02:31.951091",
     "exception": false,
     "start_time": "2024-04-02T15:02:31.933085",
     "status": "completed"
    },
    "tags": []
   },
   "outputs": [],
   "source": [
    "df = pd.read_csv('/kaggle/input/anonymous-input-data/anon_input.csv', sep=';')"
   ]
  },
  {
   "cell_type": "code",
   "execution_count": 10,
   "id": "57df7b6c",
   "metadata": {
    "execution": {
     "iopub.execute_input": "2024-04-02T15:02:31.965516Z",
     "iopub.status.busy": "2024-04-02T15:02:31.965163Z",
     "iopub.status.idle": "2024-04-02T15:02:31.975875Z",
     "shell.execute_reply": "2024-04-02T15:02:31.974720Z"
    },
    "papermill": {
     "duration": 0.021067,
     "end_time": "2024-04-02T15:02:31.978479",
     "exception": false,
     "start_time": "2024-04-02T15:02:31.957412",
     "status": "completed"
    },
    "tags": []
   },
   "outputs": [
    {
     "data": {
      "text/html": [
       "<div>\n",
       "<style scoped>\n",
       "    .dataframe tbody tr th:only-of-type {\n",
       "        vertical-align: middle;\n",
       "    }\n",
       "\n",
       "    .dataframe tbody tr th {\n",
       "        vertical-align: top;\n",
       "    }\n",
       "\n",
       "    .dataframe thead th {\n",
       "        text-align: right;\n",
       "    }\n",
       "</style>\n",
       "<table border=\"1\" class=\"dataframe\">\n",
       "  <thead>\n",
       "    <tr style=\"text-align: right;\">\n",
       "      <th></th>\n",
       "      <th>Name</th>\n",
       "      <th>Order</th>\n",
       "    </tr>\n",
       "  </thead>\n",
       "  <tbody>\n",
       "    <tr>\n",
       "      <th>0</th>\n",
       "      <td>4</td>\n",
       "      <td>2</td>\n",
       "    </tr>\n",
       "    <tr>\n",
       "      <th>1</th>\n",
       "      <td>1</td>\n",
       "      <td>1</td>\n",
       "    </tr>\n",
       "    <tr>\n",
       "      <th>2</th>\n",
       "      <td>0</td>\n",
       "      <td>4</td>\n",
       "    </tr>\n",
       "    <tr>\n",
       "      <th>3</th>\n",
       "      <td>2</td>\n",
       "      <td>4</td>\n",
       "    </tr>\n",
       "    <tr>\n",
       "      <th>4</th>\n",
       "      <td>3</td>\n",
       "      <td>0</td>\n",
       "    </tr>\n",
       "    <tr>\n",
       "      <th>5</th>\n",
       "      <td>2</td>\n",
       "      <td>1</td>\n",
       "    </tr>\n",
       "    <tr>\n",
       "      <th>6</th>\n",
       "      <td>4</td>\n",
       "      <td>1</td>\n",
       "    </tr>\n",
       "    <tr>\n",
       "      <th>7</th>\n",
       "      <td>0</td>\n",
       "      <td>3</td>\n",
       "    </tr>\n",
       "    <tr>\n",
       "      <th>8</th>\n",
       "      <td>0</td>\n",
       "      <td>2</td>\n",
       "    </tr>\n",
       "  </tbody>\n",
       "</table>\n",
       "</div>"
      ],
      "text/plain": [
       "   Name  Order\n",
       "0     4      2\n",
       "1     1      1\n",
       "2     0      4\n",
       "3     2      4\n",
       "4     3      0\n",
       "5     2      1\n",
       "6     4      1\n",
       "7     0      3\n",
       "8     0      2"
      ]
     },
     "execution_count": 10,
     "metadata": {},
     "output_type": "execute_result"
    }
   ],
   "source": [
    "ano_df = anonymise(df)\n",
    "ano_df"
   ]
  },
  {
   "cell_type": "code",
   "execution_count": 11,
   "id": "d11af298",
   "metadata": {
    "execution": {
     "iopub.execute_input": "2024-04-02T15:02:31.993430Z",
     "iopub.status.busy": "2024-04-02T15:02:31.993061Z",
     "iopub.status.idle": "2024-04-02T15:02:31.998906Z",
     "shell.execute_reply": "2024-04-02T15:02:31.997582Z"
    },
    "papermill": {
     "duration": 0.016623,
     "end_time": "2024-04-02T15:02:32.001723",
     "exception": false,
     "start_time": "2024-04-02T15:02:31.985100",
     "status": "completed"
    },
    "tags": []
   },
   "outputs": [
    {
     "name": "stdout",
     "output_type": "stream",
     "text": [
      "done\n"
     ]
    }
   ],
   "source": [
    "print('done')"
   ]
  }
 ],
 "metadata": {
  "kaggle": {
   "accelerator": "none",
   "dataSources": [
    {
     "datasetId": 4716780,
     "sourceId": 8008274,
     "sourceType": "datasetVersion"
    }
   ],
   "dockerImageVersionId": 30673,
   "isGpuEnabled": false,
   "isInternetEnabled": true,
   "language": "python",
   "sourceType": "notebook"
  },
  "kernelspec": {
   "display_name": "Python 3",
   "language": "python",
   "name": "python3"
  },
  "language_info": {
   "codemirror_mode": {
    "name": "ipython",
    "version": 3
   },
   "file_extension": ".py",
   "mimetype": "text/x-python",
   "name": "python",
   "nbconvert_exporter": "python",
   "pygments_lexer": "ipython3",
   "version": "3.10.13"
  },
  "papermill": {
   "default_parameters": {},
   "duration": 4.973784,
   "end_time": "2024-04-02T15:02:32.529091",
   "environment_variables": {},
   "exception": null,
   "input_path": "__notebook__.ipynb",
   "output_path": "__notebook__.ipynb",
   "parameters": {},
   "start_time": "2024-04-02T15:02:27.555307",
   "version": "2.5.0"
  }
 },
 "nbformat": 4,
 "nbformat_minor": 5
}
