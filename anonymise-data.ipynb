{
 "cells": [
  {
   "cell_type": "markdown",
   "id": "cfd7f5c9",
   "metadata": {
    "papermill": {
     "duration": 0.006396,
     "end_time": "2024-04-16T15:41:26.192787",
     "exception": false,
     "start_time": "2024-04-16T15:41:26.186391",
     "status": "completed"
    },
    "tags": []
   },
   "source": [
    "# Anonymise data\n",
    "The objective is to remove nominative data from a DataFrame and replace them by numbers. These numbers correspond to the index of the data in an ordered list of unique values.\n",
    "\n",
    "## Process\n",
    "### Import useful library and load a sample dataset"
   ]
  },
  {
   "cell_type": "code",
   "execution_count": 1,
   "id": "2ef7d551",
   "metadata": {
    "_cell_guid": "b1076dfc-b9ad-4769-8c92-a6c4dae69d19",
    "_uuid": "8f2839f25d086af736a60e9eeb907d3b93b6e0e5",
    "execution": {
     "iopub.execute_input": "2024-04-16T15:41:26.213542Z",
     "iopub.status.busy": "2024-04-16T15:41:26.212825Z",
     "iopub.status.idle": "2024-04-16T15:41:27.063096Z",
     "shell.execute_reply": "2024-04-16T15:41:27.062313Z"
    },
    "papermill": {
     "duration": 0.866447,
     "end_time": "2024-04-16T15:41:27.065606",
     "exception": false,
     "start_time": "2024-04-16T15:41:26.199159",
     "status": "completed"
    },
    "tags": []
   },
   "outputs": [],
   "source": [
    "import pandas as pd"
   ]
  },
  {
   "cell_type": "code",
   "execution_count": 2,
   "id": "dc83b304",
   "metadata": {
    "execution": {
     "iopub.execute_input": "2024-04-16T15:41:27.076202Z",
     "iopub.status.busy": "2024-04-16T15:41:27.075729Z",
     "iopub.status.idle": "2024-04-16T15:41:27.104621Z",
     "shell.execute_reply": "2024-04-16T15:41:27.103550Z"
    },
    "papermill": {
     "duration": 0.037489,
     "end_time": "2024-04-16T15:41:27.107118",
     "exception": false,
     "start_time": "2024-04-16T15:41:27.069629",
     "status": "completed"
    },
    "tags": []
   },
   "outputs": [],
   "source": [
    "df = pd.read_csv('/kaggle/input/anonymous-input-data/anon_input.csv', sep=';')"
   ]
  },
  {
   "cell_type": "code",
   "execution_count": 3,
   "id": "1384f922",
   "metadata": {
    "execution": {
     "iopub.execute_input": "2024-04-16T15:41:27.116417Z",
     "iopub.status.busy": "2024-04-16T15:41:27.116050Z",
     "iopub.status.idle": "2024-04-16T15:41:27.131943Z",
     "shell.execute_reply": "2024-04-16T15:41:27.130823Z"
    },
    "papermill": {
     "duration": 0.023024,
     "end_time": "2024-04-16T15:41:27.134186",
     "exception": false,
     "start_time": "2024-04-16T15:41:27.111162",
     "status": "completed"
    },
    "tags": []
   },
   "outputs": [
    {
     "data": {
      "text/html": [
       "<div>\n",
       "<style scoped>\n",
       "    .dataframe tbody tr th:only-of-type {\n",
       "        vertical-align: middle;\n",
       "    }\n",
       "\n",
       "    .dataframe tbody tr th {\n",
       "        vertical-align: top;\n",
       "    }\n",
       "\n",
       "    .dataframe thead th {\n",
       "        text-align: right;\n",
       "    }\n",
       "</style>\n",
       "<table border=\"1\" class=\"dataframe\">\n",
       "  <thead>\n",
       "    <tr style=\"text-align: right;\">\n",
       "      <th></th>\n",
       "      <th>Name</th>\n",
       "      <th>Order</th>\n",
       "    </tr>\n",
       "  </thead>\n",
       "  <tbody>\n",
       "    <tr>\n",
       "      <th>0</th>\n",
       "      <td>Thomas</td>\n",
       "      <td>chien</td>\n",
       "    </tr>\n",
       "    <tr>\n",
       "      <th>1</th>\n",
       "      <td>Paul</td>\n",
       "      <td>chat</td>\n",
       "    </tr>\n",
       "    <tr>\n",
       "      <th>2</th>\n",
       "      <td>Marie</td>\n",
       "      <td>souris</td>\n",
       "    </tr>\n",
       "    <tr>\n",
       "      <th>3</th>\n",
       "      <td>Pierre</td>\n",
       "      <td>souris</td>\n",
       "    </tr>\n",
       "    <tr>\n",
       "      <th>4</th>\n",
       "      <td>Sophie</td>\n",
       "      <td>aligator</td>\n",
       "    </tr>\n",
       "    <tr>\n",
       "      <th>5</th>\n",
       "      <td>Pierre</td>\n",
       "      <td>chat</td>\n",
       "    </tr>\n",
       "    <tr>\n",
       "      <th>6</th>\n",
       "      <td>Thomas</td>\n",
       "      <td>chat</td>\n",
       "    </tr>\n",
       "    <tr>\n",
       "      <th>7</th>\n",
       "      <td>Marie</td>\n",
       "      <td>singe</td>\n",
       "    </tr>\n",
       "    <tr>\n",
       "      <th>8</th>\n",
       "      <td>Marie</td>\n",
       "      <td>chien</td>\n",
       "    </tr>\n",
       "  </tbody>\n",
       "</table>\n",
       "</div>"
      ],
      "text/plain": [
       "     Name     Order\n",
       "0  Thomas     chien\n",
       "1    Paul      chat\n",
       "2   Marie    souris\n",
       "3  Pierre    souris\n",
       "4  Sophie  aligator\n",
       "5  Pierre      chat\n",
       "6  Thomas      chat\n",
       "7   Marie     singe\n",
       "8   Marie     chien"
      ]
     },
     "execution_count": 3,
     "metadata": {},
     "output_type": "execute_result"
    }
   ],
   "source": [
    "df"
   ]
  },
  {
   "cell_type": "markdown",
   "id": "230976c0",
   "metadata": {
    "papermill": {
     "duration": 0.003802,
     "end_time": "2024-04-16T15:41:27.142215",
     "exception": false,
     "start_time": "2024-04-16T15:41:27.138413",
     "status": "completed"
    },
    "tags": []
   },
   "source": [
    "### Extract sorted unique names and orders"
   ]
  },
  {
   "cell_type": "code",
   "execution_count": 4,
   "id": "ce8b5983",
   "metadata": {
    "execution": {
     "iopub.execute_input": "2024-04-16T15:41:27.152401Z",
     "iopub.status.busy": "2024-04-16T15:41:27.151518Z",
     "iopub.status.idle": "2024-04-16T15:41:27.162765Z",
     "shell.execute_reply": "2024-04-16T15:41:27.161579Z"
    },
    "papermill": {
     "duration": 0.018595,
     "end_time": "2024-04-16T15:41:27.164933",
     "exception": false,
     "start_time": "2024-04-16T15:41:27.146338",
     "status": "completed"
    },
    "tags": []
   },
   "outputs": [
    {
     "name": "stdout",
     "output_type": "stream",
     "text": [
      "names: ['Marie', 'Paul', 'Pierre', 'Sophie', 'Thomas']\n",
      "orders: ['aligator', 'chat', 'chien', 'singe', 'souris']\n"
     ]
    }
   ],
   "source": [
    "names = list(df['Name'].unique())\n",
    "orders = list(df['Order'].unique())\n",
    "names.sort()\n",
    "orders.sort()\n",
    "print(\"names:\", names)\n",
    "print(\"orders:\", orders)"
   ]
  },
  {
   "cell_type": "code",
   "execution_count": 5,
   "id": "491addfd",
   "metadata": {
    "execution": {
     "iopub.execute_input": "2024-04-16T15:41:27.174900Z",
     "iopub.status.busy": "2024-04-16T15:41:27.174574Z",
     "iopub.status.idle": "2024-04-16T15:41:27.180029Z",
     "shell.execute_reply": "2024-04-16T15:41:27.179105Z"
    },
    "papermill": {
     "duration": 0.013021,
     "end_time": "2024-04-16T15:41:27.182128",
     "exception": false,
     "start_time": "2024-04-16T15:41:27.169107",
     "status": "completed"
    },
    "tags": []
   },
   "outputs": [
    {
     "data": {
      "text/plain": [
       "3"
      ]
     },
     "execution_count": 5,
     "metadata": {},
     "output_type": "execute_result"
    }
   ],
   "source": [
    "orders.index('singe')"
   ]
  },
  {
   "cell_type": "markdown",
   "id": "62d6570c",
   "metadata": {
    "papermill": {
     "duration": 0.004024,
     "end_time": "2024-04-16T15:41:27.190518",
     "exception": false,
     "start_time": "2024-04-16T15:41:27.186494",
     "status": "completed"
    },
    "tags": []
   },
   "source": [
    "### Replace names and orders by anonymised values"
   ]
  },
  {
   "cell_type": "code",
   "execution_count": 6,
   "id": "30f8438b",
   "metadata": {
    "execution": {
     "iopub.execute_input": "2024-04-16T15:41:27.200504Z",
     "iopub.status.busy": "2024-04-16T15:41:27.200143Z",
     "iopub.status.idle": "2024-04-16T15:41:27.205778Z",
     "shell.execute_reply": "2024-04-16T15:41:27.204846Z"
    },
    "papermill": {
     "duration": 0.013089,
     "end_time": "2024-04-16T15:41:27.207765",
     "exception": false,
     "start_time": "2024-04-16T15:41:27.194676",
     "status": "completed"
    },
    "tags": []
   },
   "outputs": [],
   "source": [
    "df['Name'] = df['Name'].apply(lambda x: names.index(x))\n",
    "df['Order'] = df['Order'].apply(lambda x: orders.index(x))"
   ]
  },
  {
   "cell_type": "code",
   "execution_count": 7,
   "id": "1bcc8370",
   "metadata": {
    "execution": {
     "iopub.execute_input": "2024-04-16T15:41:27.218079Z",
     "iopub.status.busy": "2024-04-16T15:41:27.217753Z",
     "iopub.status.idle": "2024-04-16T15:41:27.226178Z",
     "shell.execute_reply": "2024-04-16T15:41:27.225266Z"
    },
    "papermill": {
     "duration": 0.016161,
     "end_time": "2024-04-16T15:41:27.228348",
     "exception": false,
     "start_time": "2024-04-16T15:41:27.212187",
     "status": "completed"
    },
    "tags": []
   },
   "outputs": [
    {
     "data": {
      "text/html": [
       "<div>\n",
       "<style scoped>\n",
       "    .dataframe tbody tr th:only-of-type {\n",
       "        vertical-align: middle;\n",
       "    }\n",
       "\n",
       "    .dataframe tbody tr th {\n",
       "        vertical-align: top;\n",
       "    }\n",
       "\n",
       "    .dataframe thead th {\n",
       "        text-align: right;\n",
       "    }\n",
       "</style>\n",
       "<table border=\"1\" class=\"dataframe\">\n",
       "  <thead>\n",
       "    <tr style=\"text-align: right;\">\n",
       "      <th></th>\n",
       "      <th>Name</th>\n",
       "      <th>Order</th>\n",
       "    </tr>\n",
       "  </thead>\n",
       "  <tbody>\n",
       "    <tr>\n",
       "      <th>0</th>\n",
       "      <td>4</td>\n",
       "      <td>2</td>\n",
       "    </tr>\n",
       "    <tr>\n",
       "      <th>1</th>\n",
       "      <td>1</td>\n",
       "      <td>1</td>\n",
       "    </tr>\n",
       "    <tr>\n",
       "      <th>2</th>\n",
       "      <td>0</td>\n",
       "      <td>4</td>\n",
       "    </tr>\n",
       "    <tr>\n",
       "      <th>3</th>\n",
       "      <td>2</td>\n",
       "      <td>4</td>\n",
       "    </tr>\n",
       "    <tr>\n",
       "      <th>4</th>\n",
       "      <td>3</td>\n",
       "      <td>0</td>\n",
       "    </tr>\n",
       "    <tr>\n",
       "      <th>5</th>\n",
       "      <td>2</td>\n",
       "      <td>1</td>\n",
       "    </tr>\n",
       "    <tr>\n",
       "      <th>6</th>\n",
       "      <td>4</td>\n",
       "      <td>1</td>\n",
       "    </tr>\n",
       "    <tr>\n",
       "      <th>7</th>\n",
       "      <td>0</td>\n",
       "      <td>3</td>\n",
       "    </tr>\n",
       "    <tr>\n",
       "      <th>8</th>\n",
       "      <td>0</td>\n",
       "      <td>2</td>\n",
       "    </tr>\n",
       "  </tbody>\n",
       "</table>\n",
       "</div>"
      ],
      "text/plain": [
       "   Name  Order\n",
       "0     4      2\n",
       "1     1      1\n",
       "2     0      4\n",
       "3     2      4\n",
       "4     3      0\n",
       "5     2      1\n",
       "6     4      1\n",
       "7     0      3\n",
       "8     0      2"
      ]
     },
     "execution_count": 7,
     "metadata": {},
     "output_type": "execute_result"
    }
   ],
   "source": [
    "df"
   ]
  },
  {
   "cell_type": "markdown",
   "id": "c807e3d2",
   "metadata": {
    "papermill": {
     "duration": 0.004253,
     "end_time": "2024-04-16T15:41:27.237059",
     "exception": false,
     "start_time": "2024-04-16T15:41:27.232806",
     "status": "completed"
    },
    "tags": []
   },
   "source": [
    "## Corresponding function"
   ]
  },
  {
   "cell_type": "code",
   "execution_count": 8,
   "id": "a0198616",
   "metadata": {
    "execution": {
     "iopub.execute_input": "2024-04-16T15:41:27.247553Z",
     "iopub.status.busy": "2024-04-16T15:41:27.247174Z",
     "iopub.status.idle": "2024-04-16T15:41:27.253112Z",
     "shell.execute_reply": "2024-04-16T15:41:27.251980Z"
    },
    "papermill": {
     "duration": 0.013608,
     "end_time": "2024-04-16T15:41:27.255091",
     "exception": false,
     "start_time": "2024-04-16T15:41:27.241483",
     "status": "completed"
    },
    "tags": []
   },
   "outputs": [],
   "source": [
    "def anonymise(df):\n",
    "    #create sorted list of unique Name and Order values\n",
    "    names = list(df['Name'].unique())\n",
    "    order = list(df['Order'].unique())\n",
    "    names.sort()\n",
    "    order.sort()\n",
    "    \n",
    "    #replace original values by anonymised ones\n",
    "    df['Name']  = df['Name'].apply(lambda x: names.index(x))\n",
    "    df['Order'] = df['Order'].apply(lambda x: orders.index(x)) \n",
    "    \n",
    "    return df"
   ]
  },
  {
   "cell_type": "markdown",
   "id": "e513e850",
   "metadata": {
    "papermill": {
     "duration": 0.004259,
     "end_time": "2024-04-16T15:41:27.263985",
     "exception": false,
     "start_time": "2024-04-16T15:41:27.259726",
     "status": "completed"
    },
    "tags": []
   },
   "source": [
    "### _(tests section)_"
   ]
  },
  {
   "cell_type": "code",
   "execution_count": 9,
   "id": "b1a55075",
   "metadata": {
    "execution": {
     "iopub.execute_input": "2024-04-16T15:41:27.274943Z",
     "iopub.status.busy": "2024-04-16T15:41:27.274033Z",
     "iopub.status.idle": "2024-04-16T15:41:27.280904Z",
     "shell.execute_reply": "2024-04-16T15:41:27.280116Z"
    },
    "papermill": {
     "duration": 0.014468,
     "end_time": "2024-04-16T15:41:27.282983",
     "exception": false,
     "start_time": "2024-04-16T15:41:27.268515",
     "status": "completed"
    },
    "tags": []
   },
   "outputs": [],
   "source": [
    "df = pd.read_csv('/kaggle/input/anonymous-input-data/anon_input.csv', sep=';')"
   ]
  },
  {
   "cell_type": "code",
   "execution_count": 10,
   "id": "b593df2b",
   "metadata": {
    "execution": {
     "iopub.execute_input": "2024-04-16T15:41:27.293607Z",
     "iopub.status.busy": "2024-04-16T15:41:27.293274Z",
     "iopub.status.idle": "2024-04-16T15:41:27.302938Z",
     "shell.execute_reply": "2024-04-16T15:41:27.301981Z"
    },
    "papermill": {
     "duration": 0.017486,
     "end_time": "2024-04-16T15:41:27.305089",
     "exception": false,
     "start_time": "2024-04-16T15:41:27.287603",
     "status": "completed"
    },
    "tags": []
   },
   "outputs": [
    {
     "data": {
      "text/html": [
       "<div>\n",
       "<style scoped>\n",
       "    .dataframe tbody tr th:only-of-type {\n",
       "        vertical-align: middle;\n",
       "    }\n",
       "\n",
       "    .dataframe tbody tr th {\n",
       "        vertical-align: top;\n",
       "    }\n",
       "\n",
       "    .dataframe thead th {\n",
       "        text-align: right;\n",
       "    }\n",
       "</style>\n",
       "<table border=\"1\" class=\"dataframe\">\n",
       "  <thead>\n",
       "    <tr style=\"text-align: right;\">\n",
       "      <th></th>\n",
       "      <th>Name</th>\n",
       "      <th>Order</th>\n",
       "    </tr>\n",
       "  </thead>\n",
       "  <tbody>\n",
       "    <tr>\n",
       "      <th>0</th>\n",
       "      <td>4</td>\n",
       "      <td>2</td>\n",
       "    </tr>\n",
       "    <tr>\n",
       "      <th>1</th>\n",
       "      <td>1</td>\n",
       "      <td>1</td>\n",
       "    </tr>\n",
       "    <tr>\n",
       "      <th>2</th>\n",
       "      <td>0</td>\n",
       "      <td>4</td>\n",
       "    </tr>\n",
       "    <tr>\n",
       "      <th>3</th>\n",
       "      <td>2</td>\n",
       "      <td>4</td>\n",
       "    </tr>\n",
       "    <tr>\n",
       "      <th>4</th>\n",
       "      <td>3</td>\n",
       "      <td>0</td>\n",
       "    </tr>\n",
       "    <tr>\n",
       "      <th>5</th>\n",
       "      <td>2</td>\n",
       "      <td>1</td>\n",
       "    </tr>\n",
       "    <tr>\n",
       "      <th>6</th>\n",
       "      <td>4</td>\n",
       "      <td>1</td>\n",
       "    </tr>\n",
       "    <tr>\n",
       "      <th>7</th>\n",
       "      <td>0</td>\n",
       "      <td>3</td>\n",
       "    </tr>\n",
       "    <tr>\n",
       "      <th>8</th>\n",
       "      <td>0</td>\n",
       "      <td>2</td>\n",
       "    </tr>\n",
       "  </tbody>\n",
       "</table>\n",
       "</div>"
      ],
      "text/plain": [
       "   Name  Order\n",
       "0     4      2\n",
       "1     1      1\n",
       "2     0      4\n",
       "3     2      4\n",
       "4     3      0\n",
       "5     2      1\n",
       "6     4      1\n",
       "7     0      3\n",
       "8     0      2"
      ]
     },
     "execution_count": 10,
     "metadata": {},
     "output_type": "execute_result"
    }
   ],
   "source": [
    "ano_df = anonymise(df)\n",
    "ano_df"
   ]
  },
  {
   "cell_type": "code",
   "execution_count": 11,
   "id": "33727088",
   "metadata": {
    "execution": {
     "iopub.execute_input": "2024-04-16T15:41:27.316091Z",
     "iopub.status.busy": "2024-04-16T15:41:27.315780Z",
     "iopub.status.idle": "2024-04-16T15:41:27.319893Z",
     "shell.execute_reply": "2024-04-16T15:41:27.319179Z"
    },
    "papermill": {
     "duration": 0.011843,
     "end_time": "2024-04-16T15:41:27.321671",
     "exception": false,
     "start_time": "2024-04-16T15:41:27.309828",
     "status": "completed"
    },
    "tags": []
   },
   "outputs": [
    {
     "name": "stdout",
     "output_type": "stream",
     "text": [
      "done\n"
     ]
    }
   ],
   "source": [
    "print('done')"
   ]
  }
 ],
 "metadata": {
  "kaggle": {
   "accelerator": "none",
   "dataSources": [
    {
     "datasetId": 4716780,
     "sourceId": 8008274,
     "sourceType": "datasetVersion"
    }
   ],
   "dockerImageVersionId": 30673,
   "isGpuEnabled": false,
   "isInternetEnabled": true,
   "language": "python",
   "sourceType": "notebook"
  },
  "kernelspec": {
   "display_name": "Python 3",
   "language": "python",
   "name": "python3"
  },
  "language_info": {
   "codemirror_mode": {
    "name": "ipython",
    "version": 3
   },
   "file_extension": ".py",
   "mimetype": "text/x-python",
   "name": "python",
   "nbconvert_exporter": "python",
   "pygments_lexer": "ipython3",
   "version": "3.10.13"
  },
  "papermill": {
   "default_parameters": {},
   "duration": 4.23082,
   "end_time": "2024-04-16T15:41:27.745480",
   "environment_variables": {},
   "exception": null,
   "input_path": "__notebook__.ipynb",
   "output_path": "__notebook__.ipynb",
   "parameters": {},
   "start_time": "2024-04-16T15:41:23.514660",
   "version": "2.5.0"
  }
 },
 "nbformat": 4,
 "nbformat_minor": 5
}
